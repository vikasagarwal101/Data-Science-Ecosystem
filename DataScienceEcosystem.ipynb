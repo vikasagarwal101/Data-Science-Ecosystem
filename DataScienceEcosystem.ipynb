{
 "cells": [
  {
   "cell_type": "markdown",
   "id": "a02f9458-3202-49c7-897e-abcaa398a359",
   "metadata": {
    "tags": []
   },
   "source": [
    "# Data Science Tools and Ecosystem"
   ]
  },
  {
   "cell_type": "markdown",
   "id": "2ec3ff39-a5c1-4ea1-ac85-d9d3204cf4e6",
   "metadata": {
    "tags": []
   },
   "source": [
    "In this notebook, the various tools, libraries and languages that are used in the field of Data Science are summarized. Some examples of arithmetic expressions are also given to familiarize the reader with their uses."
   ]
  },
  {
   "cell_type": "markdown",
   "id": "86a67003-fc1b-4927-86ea-3a6937bc01a2",
   "metadata": {},
   "source": [
    "**Objectives:**\n",
    "- Listed Some of the Popular Languages of Data Science.\n",
    "- Listed some of the commonly used libraries used by Data Scientists.\n",
    "- Listed 3 of the numerous Data Science Tools.\n",
    "- Gave a few examples of arithmetic expressions in Python."
   ]
  },
  {
   "cell_type": "markdown",
   "id": "2f107037-1d7f-49ad-94c1-ea1a7b019277",
   "metadata": {},
   "source": [
    "**Some of the popular languages that Data Scientists use are:**\n",
    "1. C++\n",
    "2. Java\n",
    "3. R\n",
    "4. Python\n",
    "5. Julia"
   ]
  },
  {
   "cell_type": "markdown",
   "id": "0e834159-82fd-47ec-b71c-295c2a40bab8",
   "metadata": {},
   "source": [
    "**Some of the commonly used libraries used by Data Scientists include:**\n",
    "1. pandas\n",
    "2. numpy\n",
    "3. cerat\n",
    "4. Matplotlib\n",
    "5. pytorch\n",
    "6. TensorFlow\n",
    "7. Seaborn\n",
    "8. Scikit-learn"
   ]
  },
  {
   "cell_type": "markdown",
   "id": "cd0cc248-ff0c-47ac-9a35-6c757259d19c",
   "metadata": {},
   "source": [
    "|Data Science Tools|\n",
    "|------------------|\n",
    "|Jupyter Labs|\n",
    "|Jupyter Notebooks|\n",
    "|R Studio|"
   ]
  },
  {
   "cell_type": "markdown",
   "id": "68d140ca-bd12-44d0-be74-81d23d8fbd5a",
   "metadata": {},
   "source": [
    "### Below are a few examples of evaluating arithmetic expressions in Python"
   ]
  },
  {
   "cell_type": "code",
   "execution_count": 2,
   "id": "dbd58e35-0fea-410a-a32e-2b8aca754b92",
   "metadata": {
    "tags": []
   },
   "outputs": [
    {
     "data": {
      "text/plain": [
       "17"
      ]
     },
     "execution_count": 2,
     "metadata": {},
     "output_type": "execute_result"
    }
   ],
   "source": [
    "# This is a simple arithmetic operation to multiply then add integers.\n",
    "\n",
    "(3*4)+5"
   ]
  },
  {
   "cell_type": "code",
   "execution_count": 5,
   "id": "ff302570-fc07-4aa9-b2ee-7491c7d80b50",
   "metadata": {
    "tags": []
   },
   "outputs": [
    {
     "name": "stdout",
     "output_type": "stream",
     "text": [
      "3.3333333333333335\n"
     ]
    }
   ],
   "source": [
    "# This will convert 200 minutes to hours by diving by 60.\n",
    "\n",
    "minutes = 200\n",
    "hours = minutes/60\n",
    "print(hours)\n"
   ]
  },
  {
   "cell_type": "markdown",
   "id": "6167c7aa-629e-4bf8-bcb6-a5aefc242917",
   "metadata": {},
   "source": [
    "## Author\n",
    "Vikas Agarwal"
   ]
  }
 ],
 "metadata": {
  "kernelspec": {
   "display_name": "Python",
   "language": "python",
   "name": "conda-env-python-py"
  },
  "language_info": {
   "codemirror_mode": {
    "name": "ipython",
    "version": 3
   },
   "file_extension": ".py",
   "mimetype": "text/x-python",
   "name": "python",
   "nbconvert_exporter": "python",
   "pygments_lexer": "ipython3",
   "version": "3.7.12"
  }
 },
 "nbformat": 4,
 "nbformat_minor": 5
}
